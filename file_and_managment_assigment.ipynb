{
  "nbformat": 4,
  "nbformat_minor": 0,
  "metadata": {
    "colab": {
      "provenance": []
    },
    "kernelspec": {
      "name": "python3",
      "display_name": "Python 3"
    },
    "language_info": {
      "name": "python"
    }
  },
  "cells": [
    {
      "cell_type": "markdown",
      "source": [
        "# **Files**, **exceptional handling**, **logging and** **memory management Questions**"
      ],
      "metadata": {
        "id": "twGyTu83b73v"
      }
    },
    {
      "cell_type": "markdown",
      "source": [
        "Q-1  What is the difference between interpreted and compiled languages?\n",
        "\n",
        "ANS- **Interpreted languages** are executed line-by-line at runtime using an interpreter, making them slower but easier to debug.\n",
        "\n",
        "**Compiled languages** are translated into machine code before execution using a compiler, resulting in faster performance.\n",
        "\n",
        "EX- **Compiled**: C, C++, **Interpreted:** Python, JavaScript"
      ],
      "metadata": {
        "id": "tVhhaqWUchXH"
      }
    },
    {
      "cell_type": "markdown",
      "source": [
        "Q-2 What is exception handling in Python?\n",
        "\n",
        "ANS- Exception handling in Python is a way to manage errors that occur during program execution without crashing the program.\n",
        "\n",
        "Key Keywords:\n",
        "\n",
        "try: Block of code to test for errors.\n",
        "\n",
        "except: Block that runs if an error occurs.\n",
        "\n",
        "else: Runs if no error occurs.\n",
        "\n",
        "finally: Always runs, error or not."
      ],
      "metadata": {
        "id": "KoRLOL5VdFZu"
      }
    },
    {
      "cell_type": "markdown",
      "source": [
        "Q-3  What is the purpose of the finally block in exception handling?\n",
        "\n",
        "ANS- The finally block in Python is used to define code that always runs, no matter what—whether an exception occurred or not.\n",
        "\n",
        "Purpose:\n",
        "To perform cleanup actions, like:\n",
        "\n",
        "Closing files\n",
        "\n",
        "Releasing resources\n",
        "\n",
        "Ending database connections"
      ],
      "metadata": {
        "id": "7Pn3mF_OeEem"
      }
    },
    {
      "cell_type": "markdown",
      "source": [
        "Q-4 What is logging in Python?\n",
        "\n",
        "ANS- Logging in Python is a way to track events that happen when your code runs. It helps with debugging, monitoring, and keeping records of program activity."
      ],
      "metadata": {
        "id": "kBEPPSoIeXAW"
      }
    },
    {
      "cell_type": "markdown",
      "source": [
        "Q-5 What is the significance of the __del__ method in Python?\n",
        "\n",
        "ANS- The __del__ method in Python is a destructor method. It is called automatically when an object is about to be destroyed, typically when it goes out of scope or is deleted."
      ],
      "metadata": {
        "id": "CfQeZoxNezsd"
      }
    },
    {
      "cell_type": "markdown",
      "source": [
        "Q-6 What is the difference between import and from ... import in Python?\n",
        "\n",
        "ANS- Difference between import and from ... import in Python:\n",
        "\n",
        "import :- Imports the whole module; you access functions/variables with prefix.\n",
        "\n",
        "from ... import:- Makes code shorter, but may cause name clashes if overused.\n"
      ],
      "metadata": {
        "id": "mZpictkhe-re"
      }
    },
    {
      "cell_type": "markdown",
      "source": [
        "Q-7 How can you handle multiple exceptions in Python?\n",
        "\n",
        "ANS- handle multiple exceptions in Python by using multiple except blocks, each for a specific error, or by using a single except block with a tuple of exceptions to catch multiple error types together."
      ],
      "metadata": {
        "id": "yYmKhLMQfqWl"
      }
    },
    {
      "cell_type": "markdown",
      "source": [
        "Q-8 What is the purpose of the with statement when handling files in Python?\n",
        "\n",
        "ANS- The with statement in Python is used for safe and automatic resource management, especially when working with files.It ensures that the file is automatically closed, even if an error occurs during file operations."
      ],
      "metadata": {
        "id": "e02zCW7ChQ5c"
      }
    },
    {
      "cell_type": "markdown",
      "source": [
        "Q-9 What is the difference between multithreading and multiprocessing?\n",
        "\n",
        "ANS- **Multithreading** allows multiple threads to run within a single process, sharing the same memory space. It's useful for tasks that involve waiting, like file or network operations (I/O-bound tasks).\n",
        "\n",
        "**Multiprocessing** runs multiple processes, each with its own memory space. It's better for tasks that need a lot of CPU power (CPU-bound tasks), like heavy calculations."
      ],
      "metadata": {
        "id": "_qRT9bMfhg1l"
      }
    },
    {
      "cell_type": "markdown",
      "source": [
        "Q-10 What are the advantages of using logging in a program?\n",
        "\n",
        "ANS- Advantages of Using Logging in a Program:\n",
        "\n",
        "1. Tracks Events: Helps monitor what the program is doing.\n",
        "\n",
        "2. Debugging Aid: Makes it easier to find and fix bugs.\n",
        "\n",
        "3. Error Reporting: Captures errors without stopping the program.\n",
        "\n",
        "4. No Need for Print Statements: More powerful and configurable than print().\n",
        "\n",
        "5. Saves Logs: Can write logs to files for later analysis.\n",
        "\n",
        "6. Control Over Log Levels: Allows filtering messages (e.g., DEBUG, INFO, ERROR)."
      ],
      "metadata": {
        "id": "TaEJilwah3g0"
      }
    },
    {
      "cell_type": "markdown",
      "source": [
        "Q-11 What is memory management in Python?\n",
        "\n",
        "ANS- Memory management in Python is the process of allocating, using, and freeing memory while a Python program runs."
      ],
      "metadata": {
        "id": "JjMloTtHiL5V"
      }
    },
    {
      "cell_type": "markdown",
      "source": [
        "Q-12 What are the basic steps involved in exception handling in Python?\n",
        "\n",
        "ANS- Basic Steps in Exception Handling in Python:\n",
        "\n",
        "1. **Try Block**:\n",
        "Write the code that might cause an exception inside a try block.\n",
        "\n",
        "2. **Except Block**:\n",
        "Handle specific exceptions using one or more except blocks.\n",
        "\n",
        "3. **Else Block** (Optional):\n",
        "Code here runs only if no exception occurs in the try block.\n"
      ],
      "metadata": {
        "id": "qKmtyymwia8c"
      }
    },
    {
      "cell_type": "markdown",
      "source": [
        "Q-13 Why is memory management important in Python?\n",
        "\n",
        "ANS- Memory management is important in Python because it ensures that your program uses system resources efficiently, prevents memory leaks, and keeps your application running smoothly without crashing due to running out of memory. It automatically handles allocation and freeing of memory, so developers can focus on writing code without worrying about low-level details, while still maintaining good performance and stability."
      ],
      "metadata": {
        "id": "HSjlEzSqjBb0"
      }
    },
    {
      "cell_type": "markdown",
      "source": [
        "Q-14 What is the role of try and except in exception handling?\n",
        "\n",
        "ANS- The try block contains the code that might cause an exception (error), and the except block lets you handle that exception gracefully if it occurs. Together, they help prevent your program from crashing by catching errors and allowing you to respond to them."
      ],
      "metadata": {
        "id": "bakkmElsjT5k"
      }
    },
    {
      "cell_type": "markdown",
      "source": [
        "Q-15 How does Python's garbage collection system work?\n",
        "\n",
        "ANS- Python's garbage collection primarily works through reference counting combined with a cyclic garbage collector:"
      ],
      "metadata": {
        "id": "PUI84n55jgk8"
      }
    },
    {
      "cell_type": "markdown",
      "source": [
        "Q-16 What is the purpose of the else block in exception handling?\n",
        "\n",
        "ANS- The else block in exception handling runs only if no exception occurs in the try block. It’s useful for code that should execute when everything goes smoothly, separate from error-handling code."
      ],
      "metadata": {
        "id": "wr5tBG58kjWE"
      }
    },
    {
      "cell_type": "markdown",
      "source": [
        "Q-17 What are the common logging levels in Python?\n",
        "\n",
        "ANS- The common logging levels in Python are:\n",
        "\n",
        "1. **DEBUG** – Detailed information, useful for diagnosing problems.\n",
        "\n",
        "2. **INFO** – General information about program execution.\n",
        "\n",
        "3. **WARNING** – Indicates something unexpected or a potential problem.\n",
        "\n",
        "4. **ERROR** – A serious problem that prevented part of the program from working.\n",
        "\n",
        "5. **CRITICAL** – A very serious error, often causing the program to stop."
      ],
      "metadata": {
        "id": "6nkHbRVkksyc"
      }
    },
    {
      "cell_type": "markdown",
      "source": [
        "Q-18 What is the difference between os.fork() and multiprocessing in Python?\n",
        "\n",
        "ANS- Here’s the difference in simple terms:\n",
        "\n",
        "**os.fork()**:- It creates a new child process by duplicating the current process at the OS level (available mainly on Unix/Linux). The child is almost an exact copy of the parent and shares nothing after the fork.\n",
        "\n",
        "**multiprocessing**:- A high-level Python module that lets you create and manage processes easily across different platforms (Windows, Linux, macOS). It provides tools for process communication (like queues, pipes) and synchronization, making parallel programming simpler and more portable."
      ],
      "metadata": {
        "id": "pVg-posNlD4D"
      }
    },
    {
      "cell_type": "markdown",
      "source": [
        "Q-19 What is the importance of closing a file in Python?\n",
        "\n",
        "ANS- Closing a file in Python is important because it frees up system resources (like memory and file handles) that the file was using. It also ensures all data is properly written (flushed) to the disk, preventing data loss or corruption. Not closing files can lead to resource leaks, which may slow down or crash your program."
      ],
      "metadata": {
        "id": "NrhTgJA3licj"
      }
    },
    {
      "cell_type": "markdown",
      "source": [
        "Q-20 What is the difference between file.read() and file.readline() in Python?\n",
        "\n",
        "ANS- difference between file.read() and file.readline() in Python\n",
        "\n",
        "* **file.read()** reads the entire content of the file (or a specified number of bytes) as a single string.\n",
        "\n",
        "* **file.readline()** reads one line at a time from the file, stopping at the newline character (\\n)."
      ],
      "metadata": {
        "id": "kcUMcpTFlr9b"
      }
    },
    {
      "cell_type": "markdown",
      "source": [
        "Q-21 What is the logging module in Python used for?\n",
        "\n",
        "ANS- The logging module in Python is used to record messages about a program’s execution. It helps track events like errors, warnings, or general information, making it easier to debug, monitor, and maintain applications. Unlike print statements, logging can be configured to save messages to files, filter by severity levels, and format outputs."
      ],
      "metadata": {
        "id": "LgBMKVfFmIdz"
      }
    },
    {
      "cell_type": "markdown",
      "source": [
        "Q=22 What is the os module in Python used for in file handling?\n",
        "\n",
        "ANS- The os module in Python is used for interacting with the operating system, especially for file and directory operations that go beyond simple reading and writing"
      ],
      "metadata": {
        "id": "wfQnmtBin9Ez"
      }
    },
    {
      "cell_type": "markdown",
      "source": [
        "Q-23 What are the challenges associated with memory management in Python?\n",
        "\n",
        "ANS- Challenges in Python memory management include handling reference cycles, avoiding memory leaks from lingering references, managing high memory usage due to object overhead, and dealing with non-deterministic garbage collection timing."
      ],
      "metadata": {
        "id": "-t_uElCsoYBL"
      }
    },
    {
      "cell_type": "markdown",
      "source": [
        "Q-24  How do you raise an exception manually in Python?\n",
        "\n",
        "ANS- manually raise an exception in Python using the raise statement followed by the exception type"
      ],
      "metadata": {
        "id": "HgFfUMo-okGy"
      }
    },
    {
      "cell_type": "markdown",
      "source": [
        "Q-25 Why is it important to use multithreading in certain applications?\n",
        "\n",
        "ANS- Multithreading is important because it allows a program to perform multiple tasks simultaneously, improving efficiency—especially for tasks that involve waiting, like file I/O or network operations. It helps make applications faster and more responsive by running threads in parallel without blocking the main program."
      ],
      "metadata": {
        "id": "wXcxuxxYpAki"
      }
    },
    {
      "cell_type": "markdown",
      "source": [
        "# **Practical Questions**"
      ],
      "metadata": {
        "id": "P6cHOF6qpOYi"
      }
    },
    {
      "cell_type": "markdown",
      "source": [
        "Q-1  How can you open a file for writing in Python and write a string to it?"
      ],
      "metadata": {
        "id": "D5_gNplFpRTi"
      }
    },
    {
      "cell_type": "code",
      "source": [
        "with open(\"filename.txt\", \"w\") as file:\n",
        "  file.write(\"Hello, world!\")\n"
      ],
      "metadata": {
        "id": "2EJSwQVvpVvy"
      },
      "execution_count": 11,
      "outputs": []
    },
    {
      "cell_type": "markdown",
      "source": [
        "Q-2 Write a Python program to read the contents of a file and print each line?"
      ],
      "metadata": {
        "id": "2CCFudOupyfi"
      }
    },
    {
      "cell_type": "code",
      "source": [
        "with open(\"filename.txt\", \"r\")as file:\n",
        "  for a in file:\n",
        "    print(a)\n",
        "\n"
      ],
      "metadata": {
        "colab": {
          "base_uri": "https://localhost:8080/"
        },
        "id": "rjqOFbcEp1Rk",
        "outputId": "4470f774-5de8-494c-f2b4-818629e5d796"
      },
      "execution_count": 15,
      "outputs": [
        {
          "output_type": "stream",
          "name": "stdout",
          "text": [
            "Hello, world!\n"
          ]
        }
      ]
    },
    {
      "cell_type": "markdown",
      "source": [
        "Q-3 How would you handle a case where the file doesn't exist while trying to open it for reading"
      ],
      "metadata": {
        "id": "l1frx_icqVCM"
      }
    },
    {
      "cell_type": "code",
      "source": [
        "try:\n",
        "    with open(\"filename.txt\", \"r\") as file:\n",
        "        content = file.read()\n",
        "        print(content)\n",
        "except FileNotFoundError:\n",
        "    print(\"Error: The file does not exist.\")\n"
      ],
      "metadata": {
        "id": "1-_9wOcvqWfl",
        "colab": {
          "base_uri": "https://localhost:8080/"
        },
        "outputId": "473f40bd-30a2-4af7-a01c-d93931c2e7e4"
      },
      "execution_count": 16,
      "outputs": [
        {
          "output_type": "stream",
          "name": "stdout",
          "text": [
            "Hello, world!\n"
          ]
        }
      ]
    },
    {
      "cell_type": "markdown",
      "source": [
        "Q-4  Write a Python script that reads from one file and writes its content to another file."
      ],
      "metadata": {
        "id": "TSG7g5y0JHV1"
      }
    },
    {
      "cell_type": "code",
      "source": [
        "try:\n",
        "  with open(\"filename.txt\", \"r\") as file:\n",
        "        content = file.read()\n",
        "\n",
        "  with open(\"filename1.txt\", \"w\") as file:\n",
        "        file.write(content)\n",
        "\n",
        "  print(\"content successfully copied from filename.txt to filename1.txt\")\n",
        "\n",
        "except FileNotFoundError:\n",
        "  print(\"Error: The input file (filename.txt) was not found\")\n",
        "except Exception as e:\n",
        "    print(f\"An error occurred: {e}\")"
      ],
      "metadata": {
        "colab": {
          "base_uri": "https://localhost:8080/"
        },
        "id": "8IZ4NVdbJ1xC",
        "outputId": "06766a03-d903-4682-a4b6-da15e5b0fec0"
      },
      "execution_count": 38,
      "outputs": [
        {
          "output_type": "stream",
          "name": "stdout",
          "text": [
            "content successfully copied from filename.txt to filename1.txt\n"
          ]
        }
      ]
    },
    {
      "cell_type": "markdown",
      "source": [
        "Q-5  How would you catch and handle division by zero error in Python?"
      ],
      "metadata": {
        "id": "DlrjEDkQMO74"
      }
    },
    {
      "cell_type": "code",
      "source": [
        "try:\n",
        "    10/0\n",
        "except ZeroDivisionError:\n",
        "    print(\"Error: Division by zero is not allowed.\")"
      ],
      "metadata": {
        "colab": {
          "base_uri": "https://localhost:8080/"
        },
        "id": "BVP8rTIDMbSg",
        "outputId": "932e9b82-a8ae-42e3-e81d-fdf5ec59bc1a"
      },
      "execution_count": 18,
      "outputs": [
        {
          "output_type": "stream",
          "name": "stdout",
          "text": [
            "Error: Division by zero is not allowed.\n"
          ]
        }
      ]
    },
    {
      "cell_type": "markdown",
      "source": [
        "Q-6 Write a Python program that logs an error message to a log file when a division by zero exception occurs."
      ],
      "metadata": {
        "id": "NEVOOqTBNfOg"
      }
    },
    {
      "cell_type": "code",
      "source": [
        "import logging\n",
        "\n",
        "logging.basicConfig(filename = \"error.log\", level = logging.ERROR)\n",
        "\n",
        "try:\n",
        "   10/0\n",
        "except ZeroDivisionError as e:\n",
        "  logging.error(f\"Division by zero is error: {e}\")\n",
        "\n",
        "print(\"program finished.check error.log for logs.\")"
      ],
      "metadata": {
        "colab": {
          "base_uri": "https://localhost:8080/"
        },
        "id": "0Eq7eH8FNrun",
        "outputId": "3803bea9-8a25-4414-f264-492ce86ef612"
      },
      "execution_count": 28,
      "outputs": [
        {
          "output_type": "stream",
          "name": "stderr",
          "text": [
            "ERROR:root:Division by zero is error: division by zero\n"
          ]
        },
        {
          "output_type": "stream",
          "name": "stdout",
          "text": [
            "program finished.check error.log for logs.\n"
          ]
        }
      ]
    },
    {
      "cell_type": "markdown",
      "source": [
        "Q-7 How do you log information at different levels (INFO, ERROR, WARNING) in Python using the logging module?"
      ],
      "metadata": {
        "id": "ZtOd0EJmPu4o"
      }
    },
    {
      "cell_type": "code",
      "source": [
        "import logging\n",
        "\n",
        "for handler in logging.root.handlers[:]:\n",
        "    logging.root.removeHandler(handler)\n",
        "\n",
        "logging.basicConfig(filename = 'name.txt', level = logging.DEBUG)\n",
        "\n",
        "logging.info(\"This is an info message.\")\n",
        "logging.debug(\"This is a debug message.\")\n",
        "logging.warning(\"This is a warning message.\")\n",
        "logging.error(\"This is an error message.\")\n",
        "logging.critical(\"This is a critical message.\")\n",
        "logging.shutdown()\n"
      ],
      "metadata": {
        "id": "4ZAAN61OPziv"
      },
      "execution_count": 87,
      "outputs": []
    },
    {
      "cell_type": "markdown",
      "source": [
        "Q-8 Write a program to handle a file opening error using exception handling"
      ],
      "metadata": {
        "id": "80vCFNjQRfTX"
      }
    },
    {
      "cell_type": "code",
      "source": [
        "try:\n",
        "    with open(\"non_existent_file.txt\", \"r\") as file:\n",
        "        content = file.read()\n",
        "        print(content)\n",
        "except FileNotFoundError:\n",
        "    print(\"Error: The file was not found and could not be opened.\")\n",
        "except Exception as e:\n",
        "    print(f\"An unexpected error occurred: {e}\")"
      ],
      "metadata": {
        "colab": {
          "base_uri": "https://localhost:8080/"
        },
        "id": "20zsnLJ2RjHf",
        "outputId": "43fa137c-836b-4563-98bf-b16be2ddea4c"
      },
      "execution_count": null,
      "outputs": [
        {
          "output_type": "stream",
          "name": "stdout",
          "text": [
            "Error: The file was not found and could not be opened.\n"
          ]
        }
      ]
    },
    {
      "cell_type": "markdown",
      "source": [
        "Q-9  How can you read a file line by line and store its content in a list in Python?"
      ],
      "metadata": {
        "id": "7CtblilLRosH"
      }
    },
    {
      "cell_type": "code",
      "source": [
        "try:\n",
        "    lines = []\n",
        "    with open(\"filename.txt\", \"r\")as file:\n",
        "      for line in file:\n",
        "        lines.append(line.strip())\n",
        "        print(lines)\n",
        "\n",
        "except FileNotFoundError:\n",
        "  print(\"Error: the file was not found\")\n",
        "except Exception as e:\n",
        "  print(f\"an error occurred: {e}\")"
      ],
      "metadata": {
        "colab": {
          "base_uri": "https://localhost:8080/"
        },
        "id": "7tT0YL5TTYWm",
        "outputId": "d250a1f1-3f76-4f5a-fc3b-04f45c97da4b"
      },
      "execution_count": null,
      "outputs": [
        {
          "output_type": "stream",
          "name": "stdout",
          "text": [
            "['Hello, world!']\n"
          ]
        }
      ]
    },
    {
      "cell_type": "markdown",
      "source": [
        "Q-10  How can you append data to an existing file in Python?"
      ],
      "metadata": {
        "id": "guTDLpqYUZLB"
      }
    },
    {
      "cell_type": "code",
      "source": [
        "file = open(\"filename1.txt\", \"a\")\n",
        "file.write(\"Hello PwSkills\")\n",
        "file.close()"
      ],
      "metadata": {
        "id": "qYpFsLRfUzKu"
      },
      "execution_count": 39,
      "outputs": []
    },
    {
      "cell_type": "markdown",
      "source": [
        "Q-11  Write a Python program that uses a try-except block to handle an error when attempting to access a\n",
        "dictionary key that doesn't exist."
      ],
      "metadata": {
        "id": "Kbm1GTywVrjV"
      }
    },
    {
      "cell_type": "code",
      "source": [
        "my_dict = {\"name\": \"Rahul\", \"age\": 30}\n",
        "\n",
        "try:\n",
        "  value = my_dict[\"city\"]\n",
        "  print(value)\n",
        "except KeyError:\n",
        "  print(\"Error: The key 'city' does not exist in the dictionary.\")"
      ],
      "metadata": {
        "colab": {
          "base_uri": "https://localhost:8080/"
        },
        "id": "RLriyo4kV7D9",
        "outputId": "945f99f7-f3dc-4609-a992-068bc8a53a51"
      },
      "execution_count": 40,
      "outputs": [
        {
          "output_type": "stream",
          "name": "stdout",
          "text": [
            "Error: The key 'city' does not exist in the dictionary.\n"
          ]
        }
      ]
    },
    {
      "cell_type": "markdown",
      "source": [
        "Q-12  Write a program that demonstrates using multiple except blocks to handle different types of exceptions."
      ],
      "metadata": {
        "id": "7d2UTcJqcjVD"
      }
    },
    {
      "cell_type": "code",
      "metadata": {
        "colab": {
          "base_uri": "https://localhost:8080/"
        },
        "id": "fce90d2f",
        "outputId": "4e9f7185-5b37-4d37-b5d2-bccaf2cf99cb"
      },
      "source": [
        "def process_input(value):\n",
        "  try:\n",
        "\n",
        "    int_value = int(value)\n",
        "\n",
        "    result = int_value + \"some_string\"\n",
        "    print(f\"Processed value: {result}\")\n",
        "  except ValueError:\n",
        "    print(f\"Error: Could not convert '{value}' to an integer.\")\n",
        "  except TypeError:\n",
        "    print(\"Error: Cannot perform addition between an integer and a string.\")\n",
        "  except Exception as e:\n",
        "\n",
        "    print(f\"An unexpected error occurred: {e}\")\n",
        "\n",
        "# Test cases\n",
        "process_input(\"123\")\n",
        "process_input(\"abc\")\n",
        "process_input(123)"
      ],
      "execution_count": null,
      "outputs": [
        {
          "output_type": "stream",
          "name": "stdout",
          "text": [
            "Error: Cannot perform addition between an integer and a string.\n",
            "Error: Could not convert 'abc' to an integer.\n",
            "Error: Cannot perform addition between an integer and a string.\n"
          ]
        }
      ]
    },
    {
      "cell_type": "markdown",
      "source": [
        "Q-13 How would you check if a file exists before attempting to read it in Python?"
      ],
      "metadata": {
        "id": "WsIWLnj13jk2"
      }
    },
    {
      "cell_type": "code",
      "source": [
        "import os\n",
        "\n",
        "filename = \"filename.txt\"\n",
        "\n",
        "if os.path.exists(filename):\n",
        "  print(f\"the file '{filename}' exists.\")\n",
        "  try:\n",
        "    with open(filename, \"r\") as file:\n",
        "        content = file.read()\n",
        "        print(\"file content:\")\n",
        "        print(content)\n",
        "  except Exception as e:\n",
        "     print(f\"an error occurred while reading the file: {e}\")\n",
        "else:\n",
        "    print(f\"error: the file '{filename}' does not exist.\")"
      ],
      "metadata": {
        "colab": {
          "base_uri": "https://localhost:8080/"
        },
        "id": "p_nna5Qw3yw0",
        "outputId": "3da5a4f9-6f67-417d-cf3a-bbb81f07235f"
      },
      "execution_count": null,
      "outputs": [
        {
          "output_type": "stream",
          "name": "stdout",
          "text": [
            "the file 'filename.txt' exists.\n",
            "file content:\n",
            "Hello, world!\n"
          ]
        }
      ]
    },
    {
      "cell_type": "markdown",
      "source": [
        "Q-14 Write a program that uses the logging module to log both informational and error messages."
      ],
      "metadata": {
        "id": "SIzX7TZq6N_L"
      }
    },
    {
      "cell_type": "code",
      "source": [
        "import logging\n",
        "\n",
        "for handler in logging.root.handlers[:]:\n",
        "    logging.root.removeHandler(handler)\n",
        "\n",
        "logging.basicConfig(filename = \"log.txt\", level = logging.DEBUG)\n",
        "\n",
        "logging.info(\"this is an informational  message\")\n",
        "logging.error(\"this is an error message\")"
      ],
      "metadata": {
        "id": "g8TPJLqU7W7q"
      },
      "execution_count": 56,
      "outputs": []
    },
    {
      "cell_type": "markdown",
      "source": [
        "Q-15 Write a Python program that prints the content of a file and handles the case when the file is empty."
      ],
      "metadata": {
        "id": "mtsl2y9o8lJC"
      }
    },
    {
      "cell_type": "code",
      "source": [
        "def read_print_file(filename):\n",
        "  try:\n",
        "    with open(filename, 'r') as file:\n",
        "      content = file.read()\n",
        "      if content:\n",
        "        print(\"file content\")\n",
        "        print(content)\n",
        "      else:\n",
        "          print(f\"the file '{filename}' is empty.\")\n",
        "  except FileNotFoundError:\n",
        "    print(f\"error: the file '{filename}' was not found.\")\n",
        "  except Exception as e:\n",
        "    print(f\"an error accured : {e}\")\n",
        "\n",
        "\n",
        "read_print_file(\"filename.txt\")"
      ],
      "metadata": {
        "colab": {
          "base_uri": "https://localhost:8080/"
        },
        "id": "nHZAIaRL8Md7",
        "outputId": "50d2f409-2a51-48bf-f08a-468f08c6f39c"
      },
      "execution_count": 37,
      "outputs": [
        {
          "output_type": "stream",
          "name": "stdout",
          "text": [
            "file content\n",
            "Hello, world!\n"
          ]
        }
      ]
    },
    {
      "cell_type": "markdown",
      "source": [
        "Q-16 Demonstrate how to use memory profiling to check the memory usage of a small program."
      ],
      "metadata": {
        "id": "2-5VBjJKEZzj"
      }
    },
    {
      "cell_type": "code",
      "metadata": {
        "colab": {
          "base_uri": "https://localhost:8080/"
        },
        "id": "1235a21e",
        "outputId": "df583238-9b1d-43f6-9888-1ffd7013de87"
      },
      "source": [
        "from memory_profiler import profile\n",
        "\n",
        "@profile\n",
        "def my_function():\n",
        "    a = [1] * (10**6)\n",
        "    b = [2] * (2 * 10**6)\n",
        "    del b\n",
        "    return a\n",
        "\n",
        "if __name__ == '__main__':\n",
        "    my_function()"
      ],
      "execution_count": null,
      "outputs": [
        {
          "output_type": "stream",
          "name": "stdout",
          "text": [
            "ERROR: Could not find file /tmp/ipython-input-3353704807.py\n"
          ]
        }
      ]
    },
    {
      "cell_type": "markdown",
      "source": [
        "Q-17 Write a Python program to create and write a list of numbers to a file, one number per line"
      ],
      "metadata": {
        "id": "U19bTmrCc-e0"
      }
    },
    {
      "cell_type": "code",
      "source": [
        "my_numbers = [10, 20, 30, 40, 50]\n",
        "\n",
        "with open('numbers.txt', 'w') as file:\n",
        "    for number in my_numbers:\n",
        "        file.write(f\"{number}\\n\")\n",
        "\n",
        "print(\"numbers written to number.txt\")"
      ],
      "metadata": {
        "colab": {
          "base_uri": "https://localhost:8080/"
        },
        "id": "2H8bW4GWiRCs",
        "outputId": "4cd0598b-d9c4-40d2-fe2e-38c23604bdca"
      },
      "execution_count": 66,
      "outputs": [
        {
          "output_type": "stream",
          "name": "stdout",
          "text": [
            "numbers written to number.txt\n"
          ]
        }
      ]
    },
    {
      "cell_type": "markdown",
      "source": [
        "Q-18 How would you implement a basic logging setup that logs to a file with rotation after 1MB?"
      ],
      "metadata": {
        "id": "_AmGC7ByixiS"
      }
    },
    {
      "cell_type": "code",
      "metadata": {
        "id": "79f803f3"
      },
      "source": [
        "import logging\n",
        "from logging.handlers import RotatingFileHandler\n",
        "\n",
        "log_file = \"rotated_log.log\"\n",
        "max_bytes = 1024 * 1024 #\n",
        "backup_count = 5\n",
        "\n",
        "for handler in logging.root.handlers[:]:\n",
        "    logging.root.removeHandler(handler)\n",
        "\n",
        "logging.basicConfig(\n",
        "    level=logging.INFO,\n",
        "    format='%(asctime)s - %(levelname)s - %(message)s',\n",
        "    handlers=[\n",
        "        RotatingFileHandler(log_file, maxBytes=max_bytes, backupCount=backup_count)\n",
        "    ]\n",
        ")\n",
        "\n",
        "\n",
        "logging.info(\"This is an informational message.\")\n",
        "logging.warning(\"This is a warning message.\")\n",
        "logging.error(\"This is an error message.\")"
      ],
      "execution_count": 76,
      "outputs": []
    },
    {
      "cell_type": "markdown",
      "source": [
        "Q-19 Write a program that handles both IndexError and KeyError using a try-except block."
      ],
      "metadata": {
        "id": "_im4puQVjxbM"
      }
    },
    {
      "cell_type": "code",
      "source": [
        "my_list = [1, 2, 3]\n",
        "my_dict = {'a': 10, 'b': 20}\n",
        "\n",
        "try:\n",
        "    print(my_list[5])\n",
        "    print(my_dict['z'])\n",
        "\n",
        "except IndexError:\n",
        "    print(\"IndexError: List index out of range.\")\n",
        "\n",
        "except KeyError:\n",
        "    print(\"KeyError: Key not found in dictionary.\")\n"
      ],
      "metadata": {
        "colab": {
          "base_uri": "https://localhost:8080/"
        },
        "id": "2ZvCROV_kOU3",
        "outputId": "8237ec70-770f-4713-b833-ef4fd9802fb9"
      },
      "execution_count": 80,
      "outputs": [
        {
          "output_type": "stream",
          "name": "stdout",
          "text": [
            "IndexError: List index out of range.\n"
          ]
        }
      ]
    },
    {
      "cell_type": "markdown",
      "source": [
        "Q-20 How would you open a file and read its contents using a context manager in Python?"
      ],
      "metadata": {
        "id": "iWVLOymhkubE"
      }
    },
    {
      "cell_type": "code",
      "source": [
        "with open('filename.txt', 'r') as file:\n",
        "    contents = file.read()\n",
        "    print(contents)\n"
      ],
      "metadata": {
        "colab": {
          "base_uri": "https://localhost:8080/"
        },
        "id": "9f3UbTD1kzm3",
        "outputId": "9164fac4-dd0c-4723-93fc-0d6c76cacd54"
      },
      "execution_count": 81,
      "outputs": [
        {
          "output_type": "stream",
          "name": "stdout",
          "text": [
            "Hello, world!\n"
          ]
        }
      ]
    },
    {
      "cell_type": "markdown",
      "source": [
        "Q-21 Write a Python program that reads a file and prints the number of occurrences of a specific word."
      ],
      "metadata": {
        "id": "R3Uou4KClBpu"
      }
    },
    {
      "cell_type": "code",
      "source": [
        "filename = 'filename1.txt'\n",
        "word_to_count = 'python'\n",
        "\n",
        "count = 0\n",
        "\n",
        "with open(filename, 'r') as file:\n",
        "    for line in file:\n",
        "\n",
        "        words = line.lower().split()\n",
        "        count += words.count(word_to_count.lower())\n",
        "\n",
        "\n",
        "print(f\"The word '{word_to_count}' occurs {count} times in '{filename}'.\")\n"
      ],
      "metadata": {
        "colab": {
          "base_uri": "https://localhost:8080/"
        },
        "id": "mrlytcgWmeuj",
        "outputId": "30c6d784-8de3-415c-87e7-e75b149b64c7"
      },
      "execution_count": 85,
      "outputs": [
        {
          "output_type": "stream",
          "name": "stdout",
          "text": [
            "The word 'python' occurs 0 times in 'filename1.txt'.\n"
          ]
        }
      ]
    },
    {
      "cell_type": "markdown",
      "source": [
        "Q-22 How can you check if a file is empty before attempting to read its contents ?"
      ],
      "metadata": {
        "id": "d4ulyHjAnPSb"
      }
    },
    {
      "cell_type": "code",
      "source": [
        "import os\n",
        "\n",
        "filename = 'log.txt'\n",
        "\n",
        "if os.path.getsize(filename) == 0:\n",
        "    print(\"The file is empty.\")\n",
        "else:\n",
        "    with open(filename, 'r') as file:\n",
        "        contents = file.read()\n",
        "        print(contents)\n"
      ],
      "metadata": {
        "colab": {
          "base_uri": "https://localhost:8080/"
        },
        "id": "ZJnwIaXInsmq",
        "outputId": "3bd99bed-d1d6-430a-9227-46648837d9b3"
      },
      "execution_count": 95,
      "outputs": [
        {
          "output_type": "stream",
          "name": "stdout",
          "text": [
            "INFO:root:this is an informational  message\n",
            "ERROR:root:this is an error message\n",
            "\n"
          ]
        }
      ]
    },
    {
      "cell_type": "markdown",
      "source": [
        "Q-23  Write a Python program that writes to a log file when an error occurs during file handling."
      ],
      "metadata": {
        "id": "CtW4_yp-oMTn"
      }
    },
    {
      "cell_type": "code",
      "source": [
        "import logging\n",
        "\n",
        "logging.basicConfig(filename ='error.log', level=logging.ERROR)\n",
        "\n",
        "filename = 'example.txt'\n",
        "\n",
        "try:\n",
        "    with open(filename, 'r') as file:\n",
        "        content = file.read()\n",
        "        print(content)\n",
        "\n",
        "except Exception as e:\n",
        "    logging.error(f\"Error while handling file '{filename}': {e}\")\n",
        "    print(\"An error occurred. Check 'error.log' for details.\")\n"
      ],
      "metadata": {
        "colab": {
          "base_uri": "https://localhost:8080/"
        },
        "id": "-cc7N48noOqa",
        "outputId": "403b1aff-b79b-453d-bb2b-b8d9c0670238"
      },
      "execution_count": 93,
      "outputs": [
        {
          "output_type": "stream",
          "name": "stdout",
          "text": [
            "An error occurred. Check 'error.log' for details.\n"
          ]
        }
      ]
    }
  ]
}